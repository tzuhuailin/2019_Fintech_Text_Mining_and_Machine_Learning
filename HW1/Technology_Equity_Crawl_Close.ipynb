{
 "cells": [
  {
   "cell_type": "code",
   "execution_count": 62,
   "metadata": {},
   "outputs": [
    {
     "name": "stdout",
     "output_type": "stream",
     "text": [
      "['QQQ', 'XLK', 'VGT', 'FDN', 'IYW', 'IXN', 'XT', 'IGV', 'QTEC', 'FTEC', 'FXL', 'KWEB', 'SKYY', 'HACK', 'RYT', 'IGM', 'ARKK', 'ROBO', 'SOXX', 'SMH', 'TDIV', 'CIBR', 'SOXL', 'PNQI', 'TECL', 'CQQQ', 'ARKW', 'XNTK', 'IPAY', 'EMQQ', 'PSCT', 'PSJ', 'ROM', 'XSD', 'PSI', 'IEUS', 'SOCL', 'XSW', 'PTF', 'SOXS', 'JHMT', 'ITEQ', 'PXQ', 'ISRA', 'IGN', 'USD', 'TECS', 'SSG', 'SCID', 'REW']\n"
     ]
    }
   ],
   "source": [
    "#----------資料讀入並進行篩選----------\n",
    "import pandas as pd\n",
    "\n",
    "# 讀檔\n",
    "TechnologyEquityETF= pd.read_csv('Technology Equity ETF List (75).csv') \n",
    "# 根據Inception欄位進行篩選\n",
    "fliter = (TechnologyEquityETF[\"Inception\"] < '2015-12-31') \n",
    "newTechnologyEquityETF = TechnologyEquityETF[fliter] \n",
    "\n",
    "#將符合的ETF代碼轉換為List\n",
    "TechnologyEquityETFList = newTechnologyEquityETF['Symbol'].values.tolist()\n",
    " \n",
    "print(TechnologyEquityETFList)"
   ]
  },
  {
   "cell_type": "code",
   "execution_count": 63,
   "metadata": {},
   "outputs": [
    {
     "name": "stdout",
     "output_type": "stream",
     "text": [
      "2019-03-18 00:00:00\n",
      "2019-03-19 00:00:00\n"
     ]
    }
   ],
   "source": [
    "#設置日期範圍\n",
    "from datetime import datetime, timedelta\n",
    "from dateutil.relativedelta import relativedelta\n",
    "import calendar\n",
    "start_date = \"2019-03-18\"\n",
    "stop_date = \"2019-03-19\"\n",
    "start = datetime.strptime(start_date, \"%Y-%m-%d\")\n",
    "stop = datetime.strptime(stop_date, \"%Y-%m-%d\")\n",
    "print(start)\n",
    "print(stop)"
   ]
  },
  {
   "cell_type": "code",
   "execution_count": 64,
   "metadata": {},
   "outputs": [],
   "source": [
    "import requests\n",
    "from bs4 import BeautifulSoup as bs"
   ]
  },
  {
   "cell_type": "code",
   "execution_count": 65,
   "metadata": {},
   "outputs": [],
   "source": [
    "import datetime\n",
    "def process_document(document, Symbol, start, stop):\n",
    "    \n",
    "    nodes = document.select('body > p')\n",
    "    \n",
    "    content = nodes[0].get_text().split( )\n",
    "#     print(content)\n",
    "    \n",
    "    arrayDate = content[0].split(',')    # 交易日\n",
    "    arrayClose = content[2].split(',')   # 收盤價\n",
    "    \n",
    "    nwedf = pd.DataFrame()\n",
    "    data = {'Date':arrayDate , Symbol: arrayClose}\n",
    "#     print(pd.DataFrame(data)\n",
    "    while start <= stop:\n",
    "#         print(start)\n",
    "        start = start + relativedelta(days=+1) \n",
    "    return nwedf"
   ]
  },
  {
   "cell_type": "code",
   "execution_count": 66,
   "metadata": {},
   "outputs": [
    {
     "name": "stdout",
     "output_type": "stream",
     "text": [
      "start crawling : QQQ\n",
      "start crawling : XLK\n",
      "start crawling : VGT\n",
      "start crawling : FDN\n",
      "start crawling : IYW\n",
      "start crawling : IXN\n",
      "start crawling : XT\n",
      "start crawling : IGV\n",
      "start crawling : QTEC\n",
      "start crawling : FTEC\n",
      "start crawling : FXL\n",
      "start crawling : KWEB\n",
      "start crawling : SKYY\n",
      "start crawling : HACK\n",
      "start crawling : RYT\n",
      "start crawling : IGM\n",
      "start crawling : ARKK\n",
      "start crawling : ROBO\n",
      "start crawling : SOXX\n",
      "start crawling : SMH\n",
      "start crawling : TDIV\n",
      "start crawling : CIBR\n",
      "start crawling : SOXL\n",
      "start crawling : PNQI\n",
      "start crawling : TECL\n",
      "start crawling : CQQQ\n",
      "start crawling : ARKW\n",
      "start crawling : XNTK\n",
      "start crawling : IPAY\n",
      "start crawling : EMQQ\n",
      "start crawling : PSCT\n",
      "start crawling : PSJ\n",
      "start crawling : ROM\n",
      "start crawling : XSD\n",
      "start crawling : PSI\n",
      "start crawling : IEUS\n",
      "start crawling : SOCL\n",
      "start crawling : XSW\n",
      "start crawling : PTF\n",
      "start crawling : SOXS\n",
      "start crawling : JHMT\n",
      "start crawling : ITEQ\n",
      "start crawling : PXQ\n",
      "start crawling : ISRA\n",
      "start crawling : IGN\n",
      "start crawling : USD\n",
      "start crawling : TECS\n",
      "start crawling : SSG\n",
      "start crawling : SCID\n",
      "start crawling : REW\n"
     ]
    }
   ],
   "source": [
    "all_data = pd.DataFrame()\n",
    "for Symbol in TechnologyEquityETFList:\n",
    "    print('start crawling :', Symbol)\n",
    "    res = requests.get('https://www.moneydj.com/etf/x/Basic/ETF/X/xdjbcd/Basic0003BCD.xdjbcd?etfid='+Symbol+'&b='+start_date+'&c='+stop_date)\n",
    "    doc = bs(res.text, 'lxml')\n",
    "#     print(doc)\n",
    "    if len(doc):\n",
    "        data = process_document(doc, Symbol,start,stop)\n",
    "#         print(data)\n",
    "        all_data = pd.concat([all_data, data], axis=1)\n",
    "    else:\n",
    "        print(\"已下檔\")\n",
    "        "
   ]
  },
  {
   "cell_type": "code",
   "execution_count": 68,
   "metadata": {},
   "outputs": [
    {
     "data": {
      "text/html": [
       "<div>\n",
       "<style scoped>\n",
       "    .dataframe tbody tr th:only-of-type {\n",
       "        vertical-align: middle;\n",
       "    }\n",
       "\n",
       "    .dataframe tbody tr th {\n",
       "        vertical-align: top;\n",
       "    }\n",
       "\n",
       "    .dataframe thead th {\n",
       "        text-align: right;\n",
       "    }\n",
       "</style>\n",
       "<table border=\"1\" class=\"dataframe\">\n",
       "  <thead>\n",
       "    <tr style=\"text-align: right;\">\n",
       "      <th></th>\n",
       "    </tr>\n",
       "  </thead>\n",
       "  <tbody>\n",
       "  </tbody>\n",
       "</table>\n",
       "</div>"
      ],
      "text/plain": [
       "Empty DataFrame\n",
       "Columns: []\n",
       "Index: []"
      ]
     },
     "execution_count": 68,
     "metadata": {},
     "output_type": "execute_result"
    }
   ],
   "source": [
    "#呈現COMMODITY ETFs 月底基金淨值的表格\n",
    "all_data\n"
   ]
  },
  {
   "cell_type": "code",
   "execution_count": 22,
   "metadata": {},
   "outputs": [],
   "source": [
    "all_data.to_csv('Technology_Equity _ETF_Close.csv')"
   ]
  },
  {
   "cell_type": "code",
   "execution_count": null,
   "metadata": {},
   "outputs": [],
   "source": []
  },
  {
   "cell_type": "code",
   "execution_count": null,
   "metadata": {},
   "outputs": [],
   "source": []
  }
 ],
 "metadata": {
  "kernelspec": {
   "display_name": "Python 3",
   "language": "python",
   "name": "python3"
  },
  "language_info": {
   "codemirror_mode": {
    "name": "ipython",
    "version": 3
   },
   "file_extension": ".py",
   "mimetype": "text/x-python",
   "name": "python",
   "nbconvert_exporter": "python",
   "pygments_lexer": "ipython3",
   "version": "3.7.1"
  }
 },
 "nbformat": 4,
 "nbformat_minor": 2
}
