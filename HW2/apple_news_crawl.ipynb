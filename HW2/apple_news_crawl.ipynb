{
 "cells": [
  {
   "cell_type": "code",
   "execution_count": null,
   "metadata": {},
   "outputs": [
    {
     "name": "stdout",
     "output_type": "stream",
     "text": [
      "蘋果日報 : 70筆相關新聞\n",
      "['http://www.appledaily.com.tw/realtimenews/article/new/20170608/1135628/', 'http://www.appledaily.com.tw/realtimenews/article/new/20181017/1449342/', 'http://www.appledaily.com.tw/realtimenews/article/new/20170626/1148370/', 'http://www.appledaily.com.tw/appledaily/article/headline/20170118/37523970/', 'http://www.appledaily.com.tw/appledaily/article/headline/20130706/35131703/', 'http://www.appledaily.com.tw/appledaily/article/headline/20170502/37636188/', 'https://www.appledaily.com.tw/realtimenews/article/new/20181017/1449269/', 'http://www.appledaily.com.tw/appledaily/article/headline/20081206/31205185/%E8%BB%8D%E7%81%AB%E5%A4%A7%E4%BA%A8%E6%80%95%E9%81%A3%E8%BF%94%E8%AB%8B%E4%BA%BA%E5%91%8A%E5%B7%B1%E8%BA%B214%E5%B9%B4', 'http://www.appledaily.com.tw/appledaily/article/headline/20080315/30356437/', 'http://www.appledaily.com.tw/realtimenews/article/new/20170515/1119070/', 'http://www.appledaily.com.tw/realtimenews/article/new/20180522/1358587', 'http://www.appledaily.com.tw/appledaily/article/headline/20180120/37909319/', 'http://www.appledaily.com.tw/realtimenews/article/new/20180526/1361364/', 'http://www.appledaily.com.tw/appledaily/article/headline/20181221/38211629//', 'http://www.appledaily.com.tw/realtimenews/article/new/20180907/1425683/', 'http://www.appledaily.com.tw/appledaily/article/headline/20171222/37881186/', 'http://www.appledaily.com.tw/realtimenews/article/new/20181203/1477574/', 'http://www.appledaily.com.tw/realtimenews/article/new/20181128/1474720/', 'http://www.appledaily.com.tw/realtimenews/article/new/20180827/1418830', 'http://www.appledaily.com.tw/realtimenews/article/new/20181026/1454976', 'http://www.appledaily.com.tw/realtimenews/article/new/20181115/1466725//', 'http://www.appledaily.com.tw/appledaily/article/headline/20180202/37922036/', 'http://www.appledaily.com.tw/realtimenews/article/new/20181221/1487527/', 'http://www.appledaily.com.tw/realtimenews/article/new/20180820/1414559', 'http://www.appledaily.com.tw/realtimenews/article/new/20181122/1471353//', 'http://www.appledaily.com.tw/realtimenews/article/new/20180627/1380764', 'http://www.appledaily.com.tw/realtimenews/article/new/20180522/1358744', 'http://www.appledaily.com.tw/appledaily/article/headline/20180730/38083815/', 'http://www.appledaily.com.tw/realtimenews/article/new/20181203/1477326/', 'http://www.appledaily.com.tw/appledaily/article/international/20180112/37901314/', 'http://www.appledaily.com.tw/realtimenews/article/new/20181115/1466616/', 'http://www.appledaily.com.tw/realtimenews/article/new/20180430/1344675', 'http://www.appledaily.com.tw/realtimenews/article/new/20180424/1340587', 'http://www.appledaily.com.tw/realtimenews/article/new/20180502/1345720', 'http://appledaily.com.tw/appledaily/article/supplement/20031102/466960', 'http://www.appledaily.com.tw/realtimenews/article/new/20180320/1318162', 'http://www.appledaily.com.tw/appledaily/article/headline/20090626/31738921/', 'http://www.appledaily.com.tw/realtimenews/article/new/20180611/1371155', 'http://www.appledaily.com.tw/appledaily/article/finance/20060929/2922272/', 'http://www.appledaily.com.tw/realtimenews/article/new/20170602/1131657/', 'http://www.appledaily.com.tw/appledaily/article/headline/20180131/37920355/', 'http://www.appledaily.com.tw/appledaily/article/headline/20180410/37982944/', 'http://www.appledaily.com.tw/appledaily/article/headline/20120426/34186956/', 'http://www.appledaily.com.tw/appledaily/article/headline/20180412/37984683/', 'http://www.appledaily.com.tw/appledaily/article/finance/20030818/280021/', 'http://www.appledaily.com.tw/realtimenews/article/new/20160620/889915/', 'https://www.appledaily.com.tw/realtimenews/article/new/20180622/1378225/', 'http://www.appledaily.com.tw/realtimenews/article/new/20170831/1194570/', 'http://www.appledaily.com.tw/appledaily/article/headline/20121019/34584923/', 'http://www.appledaily.com.tw/realtimenews/article/new/20160909/945332/', 'http://www.appledaily.com.tw/appledaily/article/finance/20151104/36879524/', 'http://www.appledaily.com.tw/realtimenews/article/new/20180503/1346005', 'http://www.appledaily.com.tw/appledaily/article/headline/20180515/38014303/', 'http://www.appledaily.com.tw/appledaily/article/headline/20181106/38172390//', 'http://www.appledaily.com.tw/realtimenews/article/new/20180125/1285340/', 'http://www.appledaily.com.tw/realtimenews/article/new/20151103/724782/', 'http://www.appledaily.com.tw/realtimenews/article/international/20170312/1074637', 'http://www.appledaily.com.tw/realtimenews/article/new/20160809/925138/', 'http://www.appledaily.com.tw/appledaily/article/headline/20170615/37684313/', 'http://www.appledaily.com.tw/appledaily/article/headline/20180828/38109972/', 'http://www.appledaily.com.tw/realtimenews/article/new/20180424/1340587', 'http://www.appledaily.com.tw/realtimenews/article/new/20180809/1407744/', 'http://www.appledaily.com.tw/realtimenews/article/new/20180416/1335076', 'http://www.appledaily.com.tw/realtimenews/article/new/20180502/1345720', 'http://www.appledaily.com.tw/realtimenews/article/new/20160901/940279/', 'http://www.appledaily.com.tw/appledaily/article/international/20130530/35051476/', 'https://www.appledaily.com.tw/realtimenews/article/new/20170728/1170480/', 'http://www.appledaily.com.tw/realtimenews/article/new/20161103/981273/', 'https://www.appledaily.com.tw/realtimenews/article/new/20170713/1160281/', 'http://www.appledaily.com.tw/realtimenews/article/new/20171102/1233775/']\n",
      "-----------------------------------------------------------------------\n"
     ]
    }
   ],
   "source": [
    "import os\n",
    "import requests\n",
    "from bs4 import BeautifulSoup\n",
    "from google import google\n",
    "\n",
    "# Google search api\n",
    "num_page = 1\n",
    "\n",
    "#  site:appledaily.com.tw      蘋果日報\n",
    "\n",
    "apple_news_links = []\n",
    "apple_news = []\n",
    "media = [\" site:appledaily.com.tw\"]\n",
    "word = [\"毒品販運\",\"詐欺\",\"走私\",\"稅務犯罪\",\"組織犯罪\",\"證券犯罪\",\"貪污賄賂\",\"第三方洗錢\"]\n",
    "\n",
    "for i in media :\n",
    "    for j in word:\n",
    "        search_res = google.search(j+i,num_page);\n",
    "        for m in search_res:\n",
    "            apple_news_links.append(m.link)\n",
    "#             print(m.link)\n",
    "print(\"蘋果日報 : \" + str(len(apple_news_links)) + \"筆\" + \"相關新聞\" )\n",
    "print(apple_news_links)\n",
    "print(\"-----------------------------------------------------------------------\")\n",
    "\n",
    "\n",
    "for link in apple_news_links :\n",
    "    if (link == None):\n",
    "        continue\n",
    "    r = requests.get(link).text\n",
    "    soup = BeautifulSoup(r,\"html.parser\")\n",
    "    soup = soup.find( \"div\" , \"ndArticle_margin\" )\n",
    "    soup = soup.find('p')\n",
    "    if (soup == None):\n",
    "        continue\n",
    "#     print(soup.get_text())\n",
    "    apple_news.append( soup.get_text())\n",
    "\n",
    "print(\"蘋果日報 相關新聞內文 \")\n",
    "print(apple_news)"
   ]
  },
  {
   "cell_type": "code",
   "execution_count": null,
   "metadata": {},
   "outputs": [],
   "source": []
  }
 ],
 "metadata": {
  "kernelspec": {
   "display_name": "Python 3",
   "language": "python",
   "name": "python3"
  },
  "language_info": {
   "codemirror_mode": {
    "name": "ipython",
    "version": 3
   },
   "file_extension": ".py",
   "mimetype": "text/x-python",
   "name": "python",
   "nbconvert_exporter": "python",
   "pygments_lexer": "ipython3",
   "version": "3.7.1"
  }
 },
 "nbformat": 4,
 "nbformat_minor": 2
}
